{
 "cells": [
  {
   "cell_type": "code",
   "execution_count": 1,
   "metadata": {},
   "outputs": [],
   "source": [
    "import pandas as pd\n",
    "from bs4 import BeautifulSoup\n",
    "from urllib.request import urlopen\n",
    "import webbrowser\n",
    "import requests\n",
    "import lxml.html\n",
    "import re"
   ]
  },
  {
   "cell_type": "code",
   "execution_count": 2,
   "metadata": {},
   "outputs": [],
   "source": [
    "authKey = \"92514dfc41e26715c7159127608020b866378caf\"\n",
    "companyCode = \"024110\"\n",
    "startDate = \"20150101\""
   ]
  },
  {
   "cell_type": "code",
   "execution_count": 3,
   "metadata": {},
   "outputs": [],
   "source": [
    "url = \"http://dart.fss.or.kr/api/search.xml?auth=\"+authKey+\"&crp_cd=\"+companyCode+\"&start_dt=\"+startDate+\"&bsn_tp=A001&bsn_tp=A002&bsn_tp=A003\""
   ]
  },
  {
   "cell_type": "code",
   "execution_count": 4,
   "metadata": {},
   "outputs": [],
   "source": [
    "resultXML = urlopen(url)\n",
    "result = resultXML.read()\n",
    "\n",
    "xmlsoup = BeautifulSoup(result , 'html.parser')\n",
    "\n",
    "data = pd.DataFrame()\n",
    "te = xmlsoup.findAll(\"list\")"
   ]
  },
  {
   "cell_type": "code",
   "execution_count": 5,
   "metadata": {},
   "outputs": [],
   "source": [
    "for i in te:\n",
    "    temp = pd.DataFrame(([[i.crp_cls.string,i.crp_nm.string,i.crp_cd.string,i.rpt_nm.string,i.rcp_no.string,\n",
    "                          i.flr_nm.string,i.rcp_dt.string,i.rmk.string]]),\n",
    "                       columns = [\"crp_cls\",\"crp_nm\",\"crp_cd\",\"rpt_nm\",\"rcp_no\",\"flr_nm\",\"rcp_dt\",\"rmk\"])\n",
    "    data = pd.concat([data,temp])"
   ]
  },
  {
   "cell_type": "code",
   "execution_count": 6,
   "metadata": {},
   "outputs": [],
   "source": [
    "data = data.reset_index(drop=True)"
   ]
  },
  {
   "cell_type": "code",
   "execution_count": 9,
   "metadata": {},
   "outputs": [
    {
     "data": {
      "text/html": [
       "<div>\n",
       "<style scoped>\n",
       "    .dataframe tbody tr th:only-of-type {\n",
       "        vertical-align: middle;\n",
       "    }\n",
       "\n",
       "    .dataframe tbody tr th {\n",
       "        vertical-align: top;\n",
       "    }\n",
       "\n",
       "    .dataframe thead th {\n",
       "        text-align: right;\n",
       "    }\n",
       "</style>\n",
       "<table border=\"1\" class=\"dataframe\">\n",
       "  <thead>\n",
       "    <tr style=\"text-align: right;\">\n",
       "      <th></th>\n",
       "      <th>crp_cls</th>\n",
       "      <th>crp_nm</th>\n",
       "      <th>crp_cd</th>\n",
       "      <th>rpt_nm</th>\n",
       "      <th>rcp_no</th>\n",
       "      <th>flr_nm</th>\n",
       "      <th>rcp_dt</th>\n",
       "      <th>rmk</th>\n",
       "    </tr>\n",
       "  </thead>\n",
       "  <tbody>\n",
       "    <tr>\n",
       "      <th>0</th>\n",
       "      <td>Y</td>\n",
       "      <td>기업은행</td>\n",
       "      <td>024110</td>\n",
       "      <td>분기보고서 (2019.03)</td>\n",
       "      <td>20190515002645</td>\n",
       "      <td>기업은행</td>\n",
       "      <td>20190515</td>\n",
       "      <td>None</td>\n",
       "    </tr>\n",
       "    <tr>\n",
       "      <th>1</th>\n",
       "      <td>Y</td>\n",
       "      <td>기업은행</td>\n",
       "      <td>024110</td>\n",
       "      <td>사업보고서 (2018.12)</td>\n",
       "      <td>20190401004404</td>\n",
       "      <td>기업은행</td>\n",
       "      <td>20190401</td>\n",
       "      <td>연</td>\n",
       "    </tr>\n",
       "    <tr>\n",
       "      <th>2</th>\n",
       "      <td>Y</td>\n",
       "      <td>기업은행</td>\n",
       "      <td>024110</td>\n",
       "      <td>분기보고서 (2018.09)</td>\n",
       "      <td>20181114002625</td>\n",
       "      <td>기업은행</td>\n",
       "      <td>20181114</td>\n",
       "      <td>None</td>\n",
       "    </tr>\n",
       "    <tr>\n",
       "      <th>3</th>\n",
       "      <td>Y</td>\n",
       "      <td>기업은행</td>\n",
       "      <td>024110</td>\n",
       "      <td>반기보고서 (2018.06)</td>\n",
       "      <td>20180814002808</td>\n",
       "      <td>기업은행</td>\n",
       "      <td>20180814</td>\n",
       "      <td>None</td>\n",
       "    </tr>\n",
       "    <tr>\n",
       "      <th>4</th>\n",
       "      <td>Y</td>\n",
       "      <td>기업은행</td>\n",
       "      <td>024110</td>\n",
       "      <td>[기재정정]사업보고서 (2017.12)</td>\n",
       "      <td>20180814001442</td>\n",
       "      <td>기업은행</td>\n",
       "      <td>20180814</td>\n",
       "      <td>연</td>\n",
       "    </tr>\n",
       "    <tr>\n",
       "      <th>5</th>\n",
       "      <td>Y</td>\n",
       "      <td>기업은행</td>\n",
       "      <td>024110</td>\n",
       "      <td>분기보고서 (2018.03)</td>\n",
       "      <td>20180515002315</td>\n",
       "      <td>기업은행</td>\n",
       "      <td>20180515</td>\n",
       "      <td>None</td>\n",
       "    </tr>\n",
       "    <tr>\n",
       "      <th>6</th>\n",
       "      <td>Y</td>\n",
       "      <td>기업은행</td>\n",
       "      <td>024110</td>\n",
       "      <td>사업보고서 (2017.12)</td>\n",
       "      <td>20180402004413</td>\n",
       "      <td>기업은행</td>\n",
       "      <td>20180402</td>\n",
       "      <td>정연</td>\n",
       "    </tr>\n",
       "    <tr>\n",
       "      <th>7</th>\n",
       "      <td>Y</td>\n",
       "      <td>기업은행</td>\n",
       "      <td>024110</td>\n",
       "      <td>분기보고서 (2017.09)</td>\n",
       "      <td>20171114002671</td>\n",
       "      <td>기업은행</td>\n",
       "      <td>20171114</td>\n",
       "      <td>None</td>\n",
       "    </tr>\n",
       "    <tr>\n",
       "      <th>8</th>\n",
       "      <td>Y</td>\n",
       "      <td>기업은행</td>\n",
       "      <td>024110</td>\n",
       "      <td>반기보고서 (2017.06)</td>\n",
       "      <td>20170814001820</td>\n",
       "      <td>기업은행</td>\n",
       "      <td>20170814</td>\n",
       "      <td>None</td>\n",
       "    </tr>\n",
       "    <tr>\n",
       "      <th>9</th>\n",
       "      <td>Y</td>\n",
       "      <td>기업은행</td>\n",
       "      <td>024110</td>\n",
       "      <td>분기보고서 (2017.03)</td>\n",
       "      <td>20170515004579</td>\n",
       "      <td>기업은행</td>\n",
       "      <td>20170515</td>\n",
       "      <td>None</td>\n",
       "    </tr>\n",
       "  </tbody>\n",
       "</table>\n",
       "</div>"
      ],
      "text/plain": [
       "  crp_cls crp_nm  crp_cd                 rpt_nm          rcp_no flr_nm  \\\n",
       "0       Y   기업은행  024110        분기보고서 (2019.03)  20190515002645   기업은행   \n",
       "1       Y   기업은행  024110        사업보고서 (2018.12)  20190401004404   기업은행   \n",
       "2       Y   기업은행  024110        분기보고서 (2018.09)  20181114002625   기업은행   \n",
       "3       Y   기업은행  024110        반기보고서 (2018.06)  20180814002808   기업은행   \n",
       "4       Y   기업은행  024110  [기재정정]사업보고서 (2017.12)  20180814001442   기업은행   \n",
       "5       Y   기업은행  024110        분기보고서 (2018.03)  20180515002315   기업은행   \n",
       "6       Y   기업은행  024110        사업보고서 (2017.12)  20180402004413   기업은행   \n",
       "7       Y   기업은행  024110        분기보고서 (2017.09)  20171114002671   기업은행   \n",
       "8       Y   기업은행  024110        반기보고서 (2017.06)  20170814001820   기업은행   \n",
       "9       Y   기업은행  024110        분기보고서 (2017.03)  20170515004579   기업은행   \n",
       "\n",
       "     rcp_dt   rmk  \n",
       "0  20190515  None  \n",
       "1  20190401     연  \n",
       "2  20181114  None  \n",
       "3  20180814  None  \n",
       "4  20180814     연  \n",
       "5  20180515  None  \n",
       "6  20180402    정연  \n",
       "7  20171114  None  \n",
       "8  20170814  None  \n",
       "9  20170515  None  "
      ]
     },
     "execution_count": 9,
     "metadata": {},
     "output_type": "execute_result"
    }
   ],
   "source": [
    "data"
   ]
  },
  {
   "cell_type": "code",
   "execution_count": 20,
   "metadata": {},
   "outputs": [
    {
     "name": "stdout",
     "output_type": "stream",
     "text": [
      "몇 번째 보고서를 확인하겠습니까?1\n"
     ]
    },
    {
     "data": {
      "text/plain": [
       "True"
      ]
     },
     "execution_count": 20,
     "metadata": {},
     "output_type": "execute_result"
    }
   ],
   "source": [
    "user_num = int(input(\"몇 번째 보고서를 확인하겠습니까?\"))\n",
    "url_user = \"http://dart.fss.or.kr/dsaf001/main.do?rcpNo=\"+data['rcp_no'][user_num]\n",
    "webbrowser.open(url_user)"
   ]
  },
  {
   "cell_type": "code",
   "execution_count": null,
   "metadata": {},
   "outputs": [],
   "source": []
  },
  {
   "cell_type": "code",
   "execution_count": null,
   "metadata": {},
   "outputs": [],
   "source": []
  },
  {
   "cell_type": "code",
   "execution_count": null,
   "metadata": {},
   "outputs": [],
   "source": []
  },
  {
   "cell_type": "code",
   "execution_count": null,
   "metadata": {},
   "outputs": [],
   "source": []
  },
  {
   "cell_type": "code",
   "execution_count": null,
   "metadata": {},
   "outputs": [],
   "source": []
  },
  {
   "cell_type": "code",
   "execution_count": null,
   "metadata": {},
   "outputs": [],
   "source": []
  },
  {
   "cell_type": "code",
   "execution_count": null,
   "metadata": {},
   "outputs": [],
   "source": []
  },
  {
   "cell_type": "code",
   "execution_count": null,
   "metadata": {},
   "outputs": [],
   "source": []
  }
 ],
 "metadata": {
  "kernelspec": {
   "display_name": "Python 3",
   "language": "python",
   "name": "python3"
  },
  "language_info": {
   "codemirror_mode": {
    "name": "ipython",
    "version": 3
   },
   "file_extension": ".py",
   "mimetype": "text/x-python",
   "name": "python",
   "nbconvert_exporter": "python",
   "pygments_lexer": "ipython3",
   "version": "3.6.4"
  }
 },
 "nbformat": 4,
 "nbformat_minor": 2
}
