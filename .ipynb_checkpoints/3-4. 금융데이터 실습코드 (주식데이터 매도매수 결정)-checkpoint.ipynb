{
 "cells": [
  {
   "cell_type": "markdown",
   "metadata": {},
   "source": [
    "### 주식 매도/매수 결정"
   ]
  },
  {
   "cell_type": "code",
   "execution_count": 9,
   "metadata": {},
   "outputs": [
    {
     "data": {
      "text/html": [
       "<div>\n",
       "<style scoped>\n",
       "    .dataframe tbody tr th:only-of-type {\n",
       "        vertical-align: middle;\n",
       "    }\n",
       "\n",
       "    .dataframe tbody tr th {\n",
       "        vertical-align: top;\n",
       "    }\n",
       "\n",
       "    .dataframe thead th {\n",
       "        text-align: right;\n",
       "    }\n",
       "</style>\n",
       "<table border=\"1\" class=\"dataframe\">\n",
       "  <thead>\n",
       "    <tr style=\"text-align: right;\">\n",
       "      <th></th>\n",
       "      <th>회사명</th>\n",
       "      <th>종목코드</th>\n",
       "      <th>업종</th>\n",
       "      <th>주요제품</th>\n",
       "      <th>상장일</th>\n",
       "      <th>결산월</th>\n",
       "      <th>대표자명</th>\n",
       "      <th>홈페이지</th>\n",
       "      <th>지역</th>\n",
       "    </tr>\n",
       "  </thead>\n",
       "  <tbody>\n",
       "    <tr>\n",
       "      <th>0</th>\n",
       "      <td>CJ</td>\n",
       "      <td>001040</td>\n",
       "      <td>기타 금융업</td>\n",
       "      <td>지주회사</td>\n",
       "      <td>1973-06-29</td>\n",
       "      <td>12월</td>\n",
       "      <td>손경식, 이재현, 이채욱</td>\n",
       "      <td>http://www.cj.net</td>\n",
       "      <td>서울특별시</td>\n",
       "    </tr>\n",
       "    <tr>\n",
       "      <th>1</th>\n",
       "      <td>CJ씨푸드</td>\n",
       "      <td>011150</td>\n",
       "      <td>기타 식품 제조업</td>\n",
       "      <td>수산물(어묵,맛살)가공품 도매,원양수산업,수출입</td>\n",
       "      <td>1988-11-26</td>\n",
       "      <td>12월</td>\n",
       "      <td>박정훈, 이인덕(각자대표)</td>\n",
       "      <td>http://www.cjseafood.net</td>\n",
       "      <td>경기도</td>\n",
       "    </tr>\n",
       "  </tbody>\n",
       "</table>\n",
       "</div>"
      ],
      "text/plain": [
       "     회사명    종목코드         업종                        주요제품         상장일  결산월  \\\n",
       "0     CJ  001040     기타 금융업                        지주회사  1973-06-29  12월   \n",
       "1  CJ씨푸드  011150  기타 식품 제조업  수산물(어묵,맛살)가공품 도매,원양수산업,수출입  1988-11-26  12월   \n",
       "\n",
       "             대표자명                      홈페이지     지역  \n",
       "0   손경식, 이재현, 이채욱         http://www.cj.net  서울특별시  \n",
       "1  박정훈, 이인덕(각자대표)  http://www.cjseafood.net    경기도  "
      ]
     },
     "execution_count": 9,
     "metadata": {},
     "output_type": "execute_result"
    }
   ],
   "source": [
    "import urllib.parse\n",
    "import pandas as pd\n",
    "\n",
    "MARKET_CODE_DICT = {\n",
    "    'kospi': 'stockMkt',\n",
    "    'kosdaq': 'kosdaqMkt',\n",
    "    'konex': 'konexMkt'\n",
    "}\n",
    "\n",
    "DOWNLOAD_URL = 'kind.krx.co.kr/corpgeneral/corpList.do'\n",
    "\n",
    "def download_stock_codes(market=None, delisted=False):\n",
    "    params = {'method': 'download'}\n",
    "\n",
    "    if market.lower() in MARKET_CODE_DICT:\n",
    "        params['marketType'] = MARKET_CODE_DICT[market]\n",
    "\n",
    "    if not delisted:\n",
    "        params['searchType'] = 13\n",
    "\n",
    "    params_string = urllib.parse.urlencode(params)\n",
    "    request_url = urllib.parse.urlunsplit(['http', DOWNLOAD_URL, '', params_string, ''])\n",
    "\n",
    "    df = pd.read_html(request_url, header=0)[0]\n",
    "    df.종목코드 = df.종목코드.map('{:06d}'.format)\n",
    "\n",
    "    return df\n",
    "\n",
    "\n",
    "kosdaq_stocks = download_stock_codes('kospi')\n",
    "kosdaq_stocks.head(2)"
   ]
  },
  {
   "cell_type": "code",
   "execution_count": 10,
   "metadata": {},
   "outputs": [
    {
     "name": "stdout",
     "output_type": "stream",
     "text": [
      "Enter a stock_name: CJ씨푸드\n"
     ]
    }
   ],
   "source": [
    "stock = input(\"Enter a stock_name: \")"
   ]
  },
  {
   "cell_type": "code",
   "execution_count": 11,
   "metadata": {},
   "outputs": [
    {
     "data": {
      "text/html": [
       "<div>\n",
       "<style scoped>\n",
       "    .dataframe tbody tr th:only-of-type {\n",
       "        vertical-align: middle;\n",
       "    }\n",
       "\n",
       "    .dataframe tbody tr th {\n",
       "        vertical-align: top;\n",
       "    }\n",
       "\n",
       "    .dataframe thead th {\n",
       "        text-align: right;\n",
       "    }\n",
       "</style>\n",
       "<table border=\"1\" class=\"dataframe\">\n",
       "  <thead>\n",
       "    <tr style=\"text-align: right;\">\n",
       "      <th></th>\n",
       "      <th>회사명</th>\n",
       "      <th>종목코드</th>\n",
       "    </tr>\n",
       "  </thead>\n",
       "  <tbody>\n",
       "    <tr>\n",
       "      <th>1</th>\n",
       "      <td>CJ씨푸드</td>\n",
       "      <td>011150</td>\n",
       "    </tr>\n",
       "  </tbody>\n",
       "</table>\n",
       "</div>"
      ],
      "text/plain": [
       "     회사명    종목코드\n",
       "1  CJ씨푸드  011150"
      ]
     },
     "execution_count": 11,
     "metadata": {},
     "output_type": "execute_result"
    }
   ],
   "source": [
    "stock_codeDF = kosdaq_stocks[ (kosdaq_stocks.회사명==stock) ][['회사명','종목코드']]\n",
    "stock_codeDF"
   ]
  },
  {
   "cell_type": "code",
   "execution_count": 12,
   "metadata": {},
   "outputs": [
    {
     "name": "stdout",
     "output_type": "stream",
     "text": [
      "CJ씨푸드\n",
      "011150\n"
     ]
    }
   ],
   "source": [
    "stock_code = stock_codeDF.iloc[0]['종목코드']\n",
    "stock_name = stock_codeDF.iloc[0]['회사명']\n",
    "print(stock_name)\n",
    "print(stock_code)"
   ]
  },
  {
   "cell_type": "code",
   "execution_count": 13,
   "metadata": {},
   "outputs": [
    {
     "name": "stdout",
     "output_type": "stream",
     "text": [
      "Populating the interactive namespace from numpy and matplotlib\n"
     ]
    },
    {
     "name": "stderr",
     "output_type": "stream",
     "text": [
      "C:\\ProgramData\\Anaconda3\\lib\\site-packages\\IPython\\core\\magics\\pylab.py:160: UserWarning: pylab import has clobbered these variables: ['rc']\n",
      "`%matplotlib` prevents importing * from pylab and numpy\n",
      "  \"\\n`%matplotlib` prevents importing * from pylab and numpy\"\n"
     ]
    },
    {
     "data": {
      "image/png": "[encoded data removed]",
      "text/plain": [
       "<matplotlib.figure.Figure at 0x124fb9d1630>"
      ]
     },
     "metadata": {},
     "output_type": "display_data"
    },
    {
     "name": "stdout",
     "output_type": "stream",
     "text": [
      "chart ok\n"
     ]
    },
    {
     "data": {
      "text/html": [
       "<div>\n",
       "<style scoped>\n",
       "    .dataframe tbody tr th:only-of-type {\n",
       "        vertical-align: middle;\n",
       "    }\n",
       "\n",
       "    .dataframe tbody tr th {\n",
       "        vertical-align: top;\n",
       "    }\n",
       "\n",
       "    .dataframe thead th {\n",
       "        text-align: right;\n",
       "    }\n",
       "</style>\n",
       "<table border=\"1\" class=\"dataframe\">\n",
       "  <thead>\n",
       "    <tr style=\"text-align: right;\">\n",
       "      <th></th>\n",
       "      <th>Close</th>\n",
       "      <th>Open</th>\n",
       "      <th>High</th>\n",
       "      <th>Low</th>\n",
       "      <th>Volume</th>\n",
       "      <th>Change</th>\n",
       "    </tr>\n",
       "    <tr>\n",
       "      <th>Date</th>\n",
       "      <th></th>\n",
       "      <th></th>\n",
       "      <th></th>\n",
       "      <th></th>\n",
       "      <th></th>\n",
       "      <th></th>\n",
       "    </tr>\n",
       "  </thead>\n",
       "  <tbody>\n",
       "    <tr>\n",
       "      <th>2019-01-07</th>\n",
       "      <td>2285</td>\n",
       "      <td>2280</td>\n",
       "      <td>2320</td>\n",
       "      <td>2270</td>\n",
       "      <td>43370.0</td>\n",
       "      <td>0.0044</td>\n",
       "    </tr>\n",
       "    <tr>\n",
       "      <th>2019-01-08</th>\n",
       "      <td>2290</td>\n",
       "      <td>2295</td>\n",
       "      <td>2315</td>\n",
       "      <td>2275</td>\n",
       "      <td>37670.0</td>\n",
       "      <td>0.0022</td>\n",
       "    </tr>\n",
       "    <tr>\n",
       "      <th>2019-01-09</th>\n",
       "      <td>2325</td>\n",
       "      <td>2295</td>\n",
       "      <td>2350</td>\n",
       "      <td>2280</td>\n",
       "      <td>68250.0</td>\n",
       "      <td>0.0153</td>\n",
       "    </tr>\n",
       "    <tr>\n",
       "      <th>2019-01-10</th>\n",
       "      <td>2305</td>\n",
       "      <td>2345</td>\n",
       "      <td>2350</td>\n",
       "      <td>2305</td>\n",
       "      <td>33180.0</td>\n",
       "      <td>-0.0086</td>\n",
       "    </tr>\n",
       "    <tr>\n",
       "      <th>2019-01-11</th>\n",
       "      <td>2335</td>\n",
       "      <td>2310</td>\n",
       "      <td>2340</td>\n",
       "      <td>2295</td>\n",
       "      <td>54810.0</td>\n",
       "      <td>0.0130</td>\n",
       "    </tr>\n",
       "  </tbody>\n",
       "</table>\n",
       "</div>"
      ],
      "text/plain": [
       "            Close  Open  High   Low   Volume  Change\n",
       "Date                                                \n",
       "2019-01-07   2285  2280  2320  2270  43370.0  0.0044\n",
       "2019-01-08   2290  2295  2315  2275  37670.0  0.0022\n",
       "2019-01-09   2325  2295  2350  2280  68250.0  0.0153\n",
       "2019-01-10   2305  2345  2350  2305  33180.0 -0.0086\n",
       "2019-01-11   2335  2310  2340  2295  54810.0  0.0130"
      ]
     },
     "execution_count": 13,
     "metadata": {},
     "output_type": "execute_result"
    }
   ],
   "source": [
    "import FinanceDataReader as web\n",
    "from datetime import date, timedelta\n",
    "import matplotlib.pyplot as plt\n",
    "import datetime\n",
    "#font setting for window\n",
    "#font setting for mac (AppleGothic)\n",
    "%matplotlib inline\n",
    "# Control the default size of figures in this Jupyter notebook\n",
    "%pylab inline\n",
    "pylab.rcParams['figure.figsize'] = (15, 9) \n",
    "\n",
    "from matplotlib import font_manager, rc\n",
    "font_name = font_manager.FontProperties(fname=\"c:/Windows/Fonts/malgun.ttf\").get_name()\n",
    "rc('font', family=font_name)\n",
    "\n",
    "end = date.today()\n",
    "#start = date.today() - timedelta(14)\n",
    "start = datetime.datetime(2017,4,1) #date.today() - timedelta(1)\n",
    "#print(yesterday)\n",
    "\n",
    "SEC = web.DataReader(stock_code, start, end)\n",
    "SEC['Close'].plot(style='-')\n",
    "plt.title(stock_name+\" 종가 시세\")\n",
    "plt.show()\n",
    "\n",
    "print(\"chart ok\")\n",
    "SEC.tail()"
   ]
  },
  {
   "cell_type": "code",
   "execution_count": 14,
   "metadata": {
    "collapsed": true
   },
   "outputs": [],
   "source": [
    "#import numpy as np\n",
    "#SEC =  web.get_data_yahoo(\"005490.KS\", start_past, end)\n",
    "SEC[\"20d\"] = np.round(SEC[\"Close\"].rolling(window = 20, center = False).mean(), 2)\n",
    " \n",
    "#pandas_candlestick_ohlc(SEC.loc[start:end,:], otherseries = \"20d\")"
   ]
  },
  {
   "cell_type": "code",
   "execution_count": 15,
   "metadata": {},
   "outputs": [
    {
     "data": {
      "text/html": [
       "<div>\n",
       "<style scoped>\n",
       "    .dataframe tbody tr th:only-of-type {\n",
       "        vertical-align: middle;\n",
       "    }\n",
       "\n",
       "    .dataframe tbody tr th {\n",
       "        vertical-align: top;\n",
       "    }\n",
       "\n",
       "    .dataframe thead th {\n",
       "        text-align: right;\n",
       "    }\n",
       "</style>\n",
       "<table border=\"1\" class=\"dataframe\">\n",
       "  <thead>\n",
       "    <tr style=\"text-align: right;\">\n",
       "      <th></th>\n",
       "      <th>Close</th>\n",
       "      <th>Open</th>\n",
       "      <th>High</th>\n",
       "      <th>Low</th>\n",
       "      <th>Volume</th>\n",
       "      <th>Change</th>\n",
       "      <th>20d</th>\n",
       "      <th>50d</th>\n",
       "      <th>200d</th>\n",
       "      <th>20d-50d</th>\n",
       "    </tr>\n",
       "    <tr>\n",
       "      <th>Date</th>\n",
       "      <th></th>\n",
       "      <th></th>\n",
       "      <th></th>\n",
       "      <th></th>\n",
       "      <th></th>\n",
       "      <th></th>\n",
       "      <th></th>\n",
       "      <th></th>\n",
       "      <th></th>\n",
       "      <th></th>\n",
       "    </tr>\n",
       "  </thead>\n",
       "  <tbody>\n",
       "    <tr>\n",
       "      <th>2019-01-07</th>\n",
       "      <td>2285</td>\n",
       "      <td>2280</td>\n",
       "      <td>2320</td>\n",
       "      <td>2270</td>\n",
       "      <td>43370.0</td>\n",
       "      <td>0.0044</td>\n",
       "      <td>2372.00</td>\n",
       "      <td>2331.1</td>\n",
       "      <td>2719.45</td>\n",
       "      <td>40.90</td>\n",
       "    </tr>\n",
       "    <tr>\n",
       "      <th>2019-01-08</th>\n",
       "      <td>2290</td>\n",
       "      <td>2295</td>\n",
       "      <td>2315</td>\n",
       "      <td>2275</td>\n",
       "      <td>37670.0</td>\n",
       "      <td>0.0022</td>\n",
       "      <td>2365.25</td>\n",
       "      <td>2331.7</td>\n",
       "      <td>2717.00</td>\n",
       "      <td>33.55</td>\n",
       "    </tr>\n",
       "    <tr>\n",
       "      <th>2019-01-09</th>\n",
       "      <td>2325</td>\n",
       "      <td>2295</td>\n",
       "      <td>2350</td>\n",
       "      <td>2280</td>\n",
       "      <td>68250.0</td>\n",
       "      <td>0.0153</td>\n",
       "      <td>2359.75</td>\n",
       "      <td>2334.2</td>\n",
       "      <td>2714.85</td>\n",
       "      <td>25.55</td>\n",
       "    </tr>\n",
       "    <tr>\n",
       "      <th>2019-01-10</th>\n",
       "      <td>2305</td>\n",
       "      <td>2345</td>\n",
       "      <td>2350</td>\n",
       "      <td>2305</td>\n",
       "      <td>33180.0</td>\n",
       "      <td>-0.0086</td>\n",
       "      <td>2355.00</td>\n",
       "      <td>2339.5</td>\n",
       "      <td>2712.52</td>\n",
       "      <td>15.50</td>\n",
       "    </tr>\n",
       "    <tr>\n",
       "      <th>2019-01-11</th>\n",
       "      <td>2335</td>\n",
       "      <td>2310</td>\n",
       "      <td>2340</td>\n",
       "      <td>2295</td>\n",
       "      <td>54810.0</td>\n",
       "      <td>0.0130</td>\n",
       "      <td>2353.25</td>\n",
       "      <td>2344.2</td>\n",
       "      <td>2710.55</td>\n",
       "      <td>9.05</td>\n",
       "    </tr>\n",
       "  </tbody>\n",
       "</table>\n",
       "</div>"
      ],
      "text/plain": [
       "            Close  Open  High   Low   Volume  Change      20d     50d  \\\n",
       "Date                                                                    \n",
       "2019-01-07   2285  2280  2320  2270  43370.0  0.0044  2372.00  2331.1   \n",
       "2019-01-08   2290  2295  2315  2275  37670.0  0.0022  2365.25  2331.7   \n",
       "2019-01-09   2325  2295  2350  2280  68250.0  0.0153  2359.75  2334.2   \n",
       "2019-01-10   2305  2345  2350  2305  33180.0 -0.0086  2355.00  2339.5   \n",
       "2019-01-11   2335  2310  2340  2295  54810.0  0.0130  2353.25  2344.2   \n",
       "\n",
       "               200d  20d-50d  \n",
       "Date                          \n",
       "2019-01-07  2719.45    40.90  \n",
       "2019-01-08  2717.00    33.55  \n",
       "2019-01-09  2714.85    25.55  \n",
       "2019-01-10  2712.52    15.50  \n",
       "2019-01-11  2710.55     9.05  "
      ]
     },
     "execution_count": 15,
     "metadata": {},
     "output_type": "execute_result"
    }
   ],
   "source": [
    "SEC[\"50d\"] = np.round(SEC[\"Close\"].rolling(window = 50, center = False).mean(), 2)\n",
    "SEC[\"200d\"] = np.round(SEC[\"Close\"].rolling(window = 200, center = False).mean(), 2)\n",
    "SEC['20d-50d'] = SEC['20d'] - SEC['50d']\n",
    "SEC.tail()"
   ]
  },
  {
   "cell_type": "code",
   "execution_count": 16,
   "metadata": {
    "scrolled": false
   },
   "outputs": [
    {
     "data": {
      "text/plain": [
       "<matplotlib.lines.Line2D at 0x124fb9a9278>"
      ]
     },
     "execution_count": 16,
     "metadata": {},
     "output_type": "execute_result"
    },
    {
     "data": {
      "image/png": "[encoded data removed]",
      "text/plain": [
       "<matplotlib.figure.Figure at 0x124fbaec208>"
      ]
     },
     "metadata": {},
     "output_type": "display_data"
    }
   ],
   "source": [
    "\n",
    "# np.where() is a vectorized if-else function, where a condition is checked for each component of a vector, and the first argument passed is used when the condition holds, and the other passed if it does not\n",
    "SEC[\"Regime\"] = np.where(SEC['20d-50d'] > 0, 1, 0)\n",
    "# We have 1's for bullish regimes and 0's for everything else. Below I replace bearish regimes's values with -1, and to maintain the rest of the vector, the second argument is apple[\"Regime\"]\n",
    "SEC[\"Regime\"] = np.where(SEC['20d-50d'] < 0, -1, SEC[\"Regime\"])\n",
    "SEC.loc[start:end,\"Regime\"].plot(ylim = (-2,2)).axhline(y = 0, color = \"black\", lw = 2)"
   ]
  },
  {
   "cell_type": "code",
   "execution_count": null,
   "metadata": {
    "collapsed": true
   },
   "outputs": [],
   "source": []
  },
  {
   "cell_type": "code",
   "execution_count": null,
   "metadata": {
    "collapsed": true
   },
   "outputs": [],
   "source": []
  }
 ],
 "metadata": {
  "kernelspec": {
   "display_name": "Python 3",
   "language": "python",
   "name": "python3"
  },
  "language_info": {
   "codemirror_mode": {
    "name": "ipython",
    "version": 3
   },
   "file_extension": ".py",
   "mimetype": "text/x-python",
   "name": "python",
   "nbconvert_exporter": "python",
   "pygments_lexer": "ipython3",
   "version": "3.6.4"
  }
 },
 "nbformat": 4,
 "nbformat_minor": 2
}
